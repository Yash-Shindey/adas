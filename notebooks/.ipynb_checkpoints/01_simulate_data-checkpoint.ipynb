{
 "cells": [
  {
   "cell_type": "code",
   "execution_count": 1,
   "id": "f6c8f0db-7a09-43cc-b579-b8310f41beaa",
   "metadata": {},
   "outputs": [
    {
     "name": "stdout",
     "output_type": "stream",
     "text": [
      "           x          y   distance\n",
      "0  71.975811  38.077292  12.379765\n",
      "1  53.869761  68.020065   1.857576\n",
      "2  72.123092  49.401283  37.122191\n",
      "3  38.284501  85.064378  51.046381\n",
      "4  87.563275  42.345903  61.683411\n"
     ]
    }
   ],
   "source": [
    "import numpy as np\n",
    "import pandas as pd\n",
    "\n",
    "# Simulate LIDAR data as (x, y, distance) points\n",
    "def simulate_lidar(num_points=100):\n",
    "    # Random points (x, y) and distances\n",
    "    data = np.random.rand(num_points, 3) * 100  # Scale for distance range 0-100 meters\n",
    "    lidar_df = pd.DataFrame(data, columns=['x', 'y', 'distance'])\n",
    "    return lidar_df\n",
    "\n",
    "# Generate simulated data and display it\n",
    "lidar_data = simulate_lidar(100)\n",
    "print(lidar_data.head())\n",
    "\n",
    "# Save the simulated data to a CSV file in the 'data/' directory\n",
    "lidar_data.to_csv('../data/lidar_data.csv', index=False)"
   ]
  }
 ],
 "metadata": {
  "kernelspec": {
   "display_name": "adas",
   "language": "python",
   "name": "adas"
  },
  "language_info": {
   "codemirror_mode": {
    "name": "ipython",
    "version": 3
   },
   "file_extension": ".py",
   "mimetype": "text/x-python",
   "name": "python",
   "nbconvert_exporter": "python",
   "pygments_lexer": "ipython3",
   "version": "3.9.15"
  }
 },
 "nbformat": 4,
 "nbformat_minor": 5
}
